{
  "nbformat": 4,
  "nbformat_minor": 0,
  "metadata": {
    "colab": {
      "provenance": [],
      "include_colab_link": true
    },
    "kernelspec": {
      "name": "python3",
      "display_name": "Python 3"
    },
    "language_info": {
      "name": "python"
    }
  },
  "cells": [
    {
      "cell_type": "markdown",
      "metadata": {
        "id": "view-in-github",
        "colab_type": "text"
      },
      "source": [
        "<a href=\"https://colab.research.google.com/github/simitha/j-component-assignment-1/blob/main/Assignment_1.ipynb\" target=\"_parent\"><img src=\"https://colab.research.google.com/assets/colab-badge.svg\" alt=\"Open In Colab\"/></a>"
      ]
    },
    {
      "cell_type": "markdown",
      "source": [
        "#####1. Methods of strings"
      ],
      "metadata": {
        "id": "alpqY7PZUW1v"
      }
    },
    {
      "cell_type": "code",
      "execution_count": 1,
      "metadata": {
        "id": "7SjulzzJ3xqp",
        "colab": {
          "base_uri": "https://localhost:8080/"
        },
        "outputId": "52475b05-6fff-46c9-d37a-039d362830b3"
      },
      "outputs": [
        {
          "output_type": "stream",
          "name": "stdout",
          "text": [
            "Simitha merugu\n",
            "1\n",
            "False\n",
            "-1\n",
            "Simitha Merugu\n",
            "6\n",
            "False\n"
          ]
        }
      ],
      "source": [
        "name=\"simitha merugu\"\n",
        "print(name.capitalize())\n",
        "print(name.count('a'))\n",
        "print(name.endswith('e'))\n",
        "print(name.find('d'))\n",
        "print(name.title())\n",
        "print(name.index('a',2,10))\n",
        "print(name.isalpha())"
      ]
    },
    {
      "cell_type": "markdown",
      "source": [
        "#####2. Methods of list"
      ],
      "metadata": {
        "id": "FdMXTcqYU22w"
      }
    },
    {
      "cell_type": "code",
      "source": [
        "num=[10, 11, 13, 14, 15]\n",
        "print(num)\n",
        "print(len(num))\n",
        "num.append('16')\n",
        "print(num)\n",
        "num.insert(2,12)\n",
        "print(num)\n",
        "num1=[1, 2, 3]\n",
        "num.extend(num1)\n",
        "print(num)\n",
        "num.remove(11)\n",
        "print(num)\n",
        "num.pop(0)\n",
        "print(num)\n",
        "del num[6]\n",
        "print(num)\n",
        "num.reverse()\n",
        "print(num)\n",
        "num.clear()\n",
        "print(num)"
      ],
      "metadata": {
        "colab": {
          "base_uri": "https://localhost:8080/"
        },
        "id": "3AH-zDvAQIIK",
        "outputId": "db23958c-4a74-4b28-99b1-ee359f2df94e"
      },
      "execution_count": 2,
      "outputs": [
        {
          "output_type": "stream",
          "name": "stdout",
          "text": [
            "[10, 11, 13, 14, 15]\n",
            "5\n",
            "[10, 11, 13, 14, 15, '16']\n",
            "[10, 11, 12, 13, 14, 15, '16']\n",
            "[10, 11, 12, 13, 14, 15, '16', 1, 2, 3]\n",
            "[10, 12, 13, 14, 15, '16', 1, 2, 3]\n",
            "[12, 13, 14, 15, '16', 1, 2, 3]\n",
            "[12, 13, 14, 15, '16', 1, 3]\n",
            "[3, 1, '16', 15, 14, 13, 12]\n",
            "[]\n"
          ]
        }
      ]
    },
    {
      "cell_type": "markdown",
      "source": [
        "#####3. Methods of tuple"
      ],
      "metadata": {
        "id": "0PT5Md-0VMmT"
      }
    },
    {
      "cell_type": "code",
      "source": [
        "t=('chair','key','car','chair')\n",
        "print(t)\n",
        "print(len(t))\n",
        "y=('fan',)\n",
        "t+=y\n",
        "print(t)\n",
        "x=t.count('chair')\n",
        "print(x)\n",
        "z=t.index('key')\n",
        "print(z)"
      ],
      "metadata": {
        "colab": {
          "base_uri": "https://localhost:8080/"
        },
        "id": "ZqINygJzRAsA",
        "outputId": "27e7eb6f-c432-48ba-84b2-d18ecc00fedc"
      },
      "execution_count": 3,
      "outputs": [
        {
          "output_type": "stream",
          "name": "stdout",
          "text": [
            "('chair', 'key', 'car', 'chair')\n",
            "4\n",
            "('chair', 'key', 'car', 'chair', 'fan')\n",
            "2\n",
            "1\n"
          ]
        }
      ]
    },
    {
      "cell_type": "markdown",
      "source": [
        "#####4. Methods of dictionary"
      ],
      "metadata": {
        "id": "FrJI90O-VT5j"
      }
    },
    {
      "cell_type": "code",
      "source": [
        "d={\"name\":\"grad\",\"surname\":\"wenesday\",\"no\":20010}\n",
        "print(d)\n",
        "d.update({'year':2000})\n",
        "print(d)\n",
        "x=d.get(\"name\")\n",
        "print(x)\n",
        "y=d.items()\n",
        "print(y)\n",
        "z=d.values()\n",
        "print(z)\n",
        "d.pop(\"surname\")\n",
        "print(d)\n",
        "d.popitem()\n",
        "print(d)\n",
        "d.clear()\n",
        "print(d)"
      ],
      "metadata": {
        "colab": {
          "base_uri": "https://localhost:8080/"
        },
        "id": "tJb7JopKRaA8",
        "outputId": "1d82c5d2-3d71-4297-85ad-c119e83afde2"
      },
      "execution_count": 6,
      "outputs": [
        {
          "output_type": "stream",
          "name": "stdout",
          "text": [
            "{'name': 'grad', 'surname': 'wenesday', 'no': 20010}\n",
            "{'name': 'grad', 'surname': 'wenesday', 'no': 20010, 'year': 2000}\n",
            "grad\n",
            "dict_items([('name', 'grad'), ('surname', 'wenesday'), ('no', 20010), ('year', 2000)])\n",
            "dict_values(['grad', 'wenesday', 20010, 2000])\n",
            "{'name': 'grad', 'no': 20010, 'year': 2000}\n",
            "{'name': 'grad', 'no': 20010}\n",
            "{}\n"
          ]
        }
      ]
    },
    {
      "cell_type": "markdown",
      "source": [
        "#####5. Methods of sets"
      ],
      "metadata": {
        "id": "CNGaqj7FVYPY"
      }
    },
    {
      "cell_type": "code",
      "source": [
        "s1={5,6,7,8,9,10}\n",
        "s2={1,2,3,4,5,6}\n",
        "s1|s2\n",
        "print(s1.union(s2))\n",
        "s1&s2\n",
        "print(s1.intersection(s2))\n",
        "print(s1.difference(s2))\n",
        "s1^s2\n",
        "print(s1.issubset(s2))\n",
        "s1.add(9)\n",
        "print(s1)\n",
        "s3=s1.copy()\n",
        "print(s3)\n",
        "s2.pop()\n",
        "print(s2)\n",
        "s2.remove(6)\n",
        "print(s2)\n",
        "s4={19,18,17}\n",
        "s1.update(s4)\n",
        "print(s1)\n",
        "s1.discard(6)\n",
        "print(s1)\n",
        "s1.clear()\n",
        "print(s1)"
      ],
      "metadata": {
        "colab": {
          "base_uri": "https://localhost:8080/"
        },
        "id": "gCGr54wgRsSD",
        "outputId": "0a720e82-00e3-4440-8b98-984bd8518d69"
      },
      "execution_count": 5,
      "outputs": [
        {
          "output_type": "stream",
          "name": "stdout",
          "text": [
            "{1, 2, 3, 4, 5, 6, 7, 8, 9, 10}\n",
            "{5, 6}\n",
            "{8, 9, 10, 7}\n",
            "False\n",
            "{5, 6, 7, 8, 9, 10}\n",
            "{5, 6, 7, 8, 9, 10}\n",
            "{2, 3, 4, 5, 6}\n",
            "{2, 3, 4, 5}\n",
            "{5, 6, 7, 8, 9, 10, 17, 18, 19}\n",
            "{5, 7, 8, 9, 10, 17, 18, 19}\n",
            "set()\n"
          ]
        }
      ]
    },
    {
      "cell_type": "markdown",
      "source": [
        "#####6. Decimal to Binary, Octal and Hexadecimal conversion with direct method."
      ],
      "metadata": {
        "id": "X4D5wF4fVdWs"
      }
    },
    {
      "cell_type": "code",
      "source": [
        "n = int(input(\"Enter an integer: \"))\n",
        "print(\"The decimal value of\", n, \"is:\\n\", bin(n), \"in binary\\n\", oct(n), \"in octal\\n\", hex(n), \"in hexadecimal.\")"
      ],
      "metadata": {
        "colab": {
          "base_uri": "https://localhost:8080/"
        },
        "id": "wzlKwmM0R7uC",
        "outputId": "3ae57f99-fbf0-4ade-822c-fd5a99b7df2e"
      },
      "execution_count": 7,
      "outputs": [
        {
          "output_type": "stream",
          "name": "stdout",
          "text": [
            "Enter an integer: 2\n",
            "The decimal value of 2 is:\n",
            " 0b10 in binary\n",
            " 0o2 in octal\n",
            " 0x2 in hexadecimal.\n"
          ]
        }
      ]
    },
    {
      "cell_type": "markdown",
      "source": [
        "#####7. Arthmetic operators"
      ],
      "metadata": {
        "id": "wTSxvCAtVpCO"
      }
    },
    {
      "cell_type": "code",
      "source": [
        "a=int(input(\"Enter first integer:\"))\n",
        "b=int(input(\"Enter second integer:\"))\n",
        "print(\"sum of \",a,\"and\",b,\"is\",(a+b))\n",
        "print(\"subtraction of\",a,\"and\",b,\"is\",(a-b))\n",
        "print(\"multiplication of\",a,\"and\",b,\"is\",(a*b))\n",
        "print(\"division of\",a,\"and\",b,\"is\",(a/b))\n",
        "print(\"modulus of\",a,\"and\",b,\"is\",(a%b))\n",
        "print(\"floor division of\",a,\"and\",b,\"is\",(a//b))\n",
        "print(\"power of\",a,\"and\",b,\"is\",(a**b))"
      ],
      "metadata": {
        "colab": {
          "base_uri": "https://localhost:8080/"
        },
        "id": "M8WC0SldSfQt",
        "outputId": "b670df4b-803d-4bb0-93e7-dcce272a253c"
      },
      "execution_count": 8,
      "outputs": [
        {
          "output_type": "stream",
          "name": "stdout",
          "text": [
            "Enter first integer:4\n",
            "Enter second integer:3\n",
            "sum of  4 and 3 is 7\n",
            "subtraction of 4 and 3 is 1\n",
            "multiplication of 4 and 3 is 12\n",
            "division of 4 and 3 is 1.3333333333333333\n",
            "modulus of 4 and 3 is 1\n",
            "floor division of 4 and 3 is 1\n",
            "power of 4 and 3 is 64\n"
          ]
        }
      ]
    },
    {
      "cell_type": "markdown",
      "source": [
        "#####8. Assignment operators"
      ],
      "metadata": {
        "id": "MRlyT-OrVwUk"
      }
    },
    {
      "cell_type": "code",
      "source": [
        "a=int(input(\"Enter first integer:\"))\n",
        "b=int(input(\"Enter second integer:\"))\n",
        "a+=b\n",
        "print(a)\n",
        "a-=b\n",
        "print(a)\n",
        "a*=b\n",
        "print(a)\n",
        "a/=b\n",
        "print(a)\n",
        "a**=b\n",
        "print(a)\n",
        "a//=b\n",
        "print(a)\n",
        "a%=b\n",
        "print(a)"
      ],
      "metadata": {
        "colab": {
          "base_uri": "https://localhost:8080/"
        },
        "id": "vDXBF5R_SonH",
        "outputId": "362b43f7-73d0-4dad-8bfa-db1ac79bc21b"
      },
      "execution_count": 9,
      "outputs": [
        {
          "output_type": "stream",
          "name": "stdout",
          "text": [
            "Enter first integer:3\n",
            "Enter second integer:4\n",
            "7\n",
            "3\n",
            "12\n",
            "3.0\n",
            "81.0\n",
            "20.0\n",
            "0.0\n"
          ]
        }
      ]
    },
    {
      "cell_type": "markdown",
      "source": [
        "#####9. Comparision operators"
      ],
      "metadata": {
        "id": "IuCJEJqoVzy5"
      }
    },
    {
      "cell_type": "code",
      "source": [
        "a=int(input(\"Enter first integer:\"))\n",
        "b=int(input(\"Enter second integer:\"))\n",
        "print((a<b))\n",
        "print((a<=b))\n",
        "print((a>b))\n",
        "print((a>=b))\n",
        "print((a==b))\n",
        "print((a!=b))"
      ],
      "metadata": {
        "colab": {
          "base_uri": "https://localhost:8080/"
        },
        "id": "EiWKd1t7SzbN",
        "outputId": "dc2033ee-d3fb-4a8b-da16-8298b51b092e"
      },
      "execution_count": 10,
      "outputs": [
        {
          "output_type": "stream",
          "name": "stdout",
          "text": [
            "Enter first integer:7\n",
            "Enter second integer:6\n",
            "False\n",
            "False\n",
            "True\n",
            "True\n",
            "False\n",
            "True\n"
          ]
        }
      ]
    },
    {
      "cell_type": "markdown",
      "source": [
        "#####10. Logical operators"
      ],
      "metadata": {
        "id": "EP0Hze9kV30R"
      }
    },
    {
      "cell_type": "code",
      "source": [
        "a=int(input(\"Enter first integer:\"))\n",
        "a=int(input(\"Enter second integer:\"))\n",
        "print((a>b)and(a<b))\n",
        "print((a<b)or(a>b))\n",
        "print(not(a!=b))"
      ],
      "metadata": {
        "colab": {
          "base_uri": "https://localhost:8080/"
        },
        "id": "IIAz4VtxS7C9",
        "outputId": "8f739cdf-d35b-4806-cf6e-f58cdd8f83d7"
      },
      "execution_count": 11,
      "outputs": [
        {
          "output_type": "stream",
          "name": "stdout",
          "text": [
            "Enter first integer:8\n",
            "Enter second integer:5\n",
            "False\n",
            "True\n",
            "False\n"
          ]
        }
      ]
    },
    {
      "cell_type": "markdown",
      "source": [
        "#####11. Bitwise operators"
      ],
      "metadata": {
        "id": "IEIm8YHVV7sg"
      }
    },
    {
      "cell_type": "code",
      "source": [
        "a=int(input(\"Enter first integer:\"))\n",
        "b=int(input(\"Enter second integer:\"))\n",
        "print(a&b)\n",
        "print(a/b)\n",
        "print(a^b)\n",
        "print(a<<4)\n",
        "print(a>>1)\n",
        "print(b<<2)"
      ],
      "metadata": {
        "colab": {
          "base_uri": "https://localhost:8080/"
        },
        "id": "1BGGYOssTRka",
        "outputId": "024f43c4-1395-4aed-fe31-dbad9aa29d77"
      },
      "execution_count": 12,
      "outputs": [
        {
          "output_type": "stream",
          "name": "stdout",
          "text": [
            "Enter first integer:5\n",
            "Enter second integer:9\n",
            "1\n",
            "0.5555555555555556\n",
            "12\n",
            "80\n",
            "2\n",
            "36\n"
          ]
        }
      ]
    },
    {
      "cell_type": "markdown",
      "source": [
        "#####12. Membership operators"
      ],
      "metadata": {
        "id": "syUwEergWAu0"
      }
    },
    {
      "cell_type": "code",
      "source": [
        "x=\"simitha merugu\"\n",
        "print('a' in x)\n",
        "print('s' not in x)"
      ],
      "metadata": {
        "colab": {
          "base_uri": "https://localhost:8080/"
        },
        "id": "hs6TvtV_UMUl",
        "outputId": "e4bbc140-f6d8-4968-a750-d330884d5ebc"
      },
      "execution_count": 13,
      "outputs": [
        {
          "output_type": "stream",
          "name": "stdout",
          "text": [
            "True\n",
            "False\n"
          ]
        }
      ]
    },
    {
      "cell_type": "markdown",
      "source": [
        "#####13. Indexing operators"
      ],
      "metadata": {
        "id": "OVK30ykEWFIx"
      }
    },
    {
      "cell_type": "code",
      "source": [
        "a=10\n",
        "b=20\n",
        "c=10\n",
        "print(a is c)\n",
        "print(a is not b)"
      ],
      "metadata": {
        "colab": {
          "base_uri": "https://localhost:8080/"
        },
        "id": "VAtaM0_pUBsR",
        "outputId": "e6ea8153-4971-4591-b516-091b83e0fb88"
      },
      "execution_count": 14,
      "outputs": [
        {
          "output_type": "stream",
          "name": "stdout",
          "text": [
            "True\n",
            "True\n"
          ]
        }
      ]
    },
    {
      "cell_type": "markdown",
      "source": [
        "#####14. List slicing indexing"
      ],
      "metadata": {
        "id": "REAC1PTxWJ2F"
      }
    },
    {
      "cell_type": "code",
      "source": [
        "l=[1,2,3,4,5,6,7,8,9]\n",
        "print(l[-7::1])\n",
        "print(l[1:4])\n",
        "print(l[1:2:8])\n",
        "print(l[::2])\n",
        "print(l[::])"
      ],
      "metadata": {
        "colab": {
          "base_uri": "https://localhost:8080/"
        },
        "id": "iRZ0cuNeT8ey",
        "outputId": "871cab13-197d-403f-caa0-e65d08d55e60"
      },
      "execution_count": 15,
      "outputs": [
        {
          "output_type": "stream",
          "name": "stdout",
          "text": [
            "[3, 4, 5, 6, 7, 8, 9]\n",
            "[2, 3, 4]\n",
            "[2]\n",
            "[1, 3, 5, 7, 9]\n",
            "[1, 2, 3, 4, 5, 6, 7, 8, 9]\n"
          ]
        }
      ]
    },
    {
      "cell_type": "markdown",
      "source": [
        "#####15. Predict the output for the given code snippet and justify the result.\n",
        "\n"
      ],
      "metadata": {
        "id": "O6AWCXUrWTpL"
      }
    },
    {
      "cell_type": "code",
      "source": [
        "print('A series of characters designated as one object known as a string'[::-1][4::3])\n",
        "print(\"-----------\")\n",
        "print('Welcome to python traing program'[3:10][::-1])"
      ],
      "metadata": {
        "colab": {
          "base_uri": "https://localhost:8080/"
        },
        "id": "88Geg4wlb8xM",
        "outputId": "c84d83b1-ea56-465c-cd03-1e1d5149bafa"
      },
      "execution_count": 16,
      "outputs": [
        {
          "output_type": "stream",
          "name": "stdout",
          "text": [
            "taawkcbe  tgestrcoeeA\n",
            "-----------\n",
            "ot emoc\n"
          ]
        }
      ]
    },
    {
      "cell_type": "markdown",
      "source": [
        "#####16."
      ],
      "metadata": {
        "id": "pq2vXza1WZJZ"
      }
    },
    {
      "cell_type": "code",
      "source": [
        "inp=input(\"Enter a string:\")\n",
        "print(inp[::-1].upper())"
      ],
      "metadata": {
        "colab": {
          "base_uri": "https://localhost:8080/"
        },
        "id": "KVMwvHoea1J9",
        "outputId": "b5ebf2b2-bce4-4c29-d559-76eb585eaf3b"
      },
      "execution_count": 17,
      "outputs": [
        {
          "output_type": "stream",
          "name": "stdout",
          "text": [
            "Enter a string:hi\n",
            "IH\n"
          ]
        }
      ]
    },
    {
      "cell_type": "markdown",
      "source": [
        "#####17. You are required to generate a word similar to ZOO, X and Y that denote the number of Zs and Os respectively. The generated word similar to ZOO where Y= 2 * X. \n",
        "######Input X= 2 Output ZZOOOO \n",
        "######Input X= 5 Output ZZZZZOOOOOOOOOO"
      ],
      "metadata": {
        "id": "m9RG6-rqWlH0"
      }
    },
    {
      "cell_type": "code",
      "source": [
        "x=int(input('Enter X:'))\n",
        "print(x*'Z'+ 2*x*'O')"
      ],
      "metadata": {
        "id": "LegQFdc03ali",
        "colab": {
          "base_uri": "https://localhost:8080/"
        },
        "outputId": "b8df003e-d227-495b-c50b-20af2b3d6a62"
      },
      "execution_count": 18,
      "outputs": [
        {
          "output_type": "stream",
          "name": "stdout",
          "text": [
            "Enter X:8\n",
            "ZZZZZZZZOOOOOOOOOOOOOOOO\n"
          ]
        }
      ]
    }
  ]
}